{
  "cells": [
    {
      "cell_type": "markdown",
      "metadata": {
        "id": "DuIagf5H8O-l"
      },
      "source": [
        "## 0. COLAB 한글 깨짐"
      ]
    },
    {
      "cell_type": "code",
      "execution_count": null,
      "metadata": {
        "id": "0M-LED1j8TYu"
      },
      "outputs": [],
      "source": [
        "# 1. 실행\n",
        "!sudo apt-get install -y fonts-nanum\n",
        "!sudo fc-cache -fv\n",
        "!rm ~/.cache/matplotlib -rf"
      ]
    },
    {
      "cell_type": "markdown",
      "metadata": {
        "id": "dTzAi7ow8h1i"
      },
      "source": [
        "####  **코랩(Colab)의 런타임을 재시작 합니다.**"
      ]
    },
    {
      "cell_type": "code",
      "execution_count": null,
      "metadata": {
        "id": "jSDjXrq48qZY"
      },
      "outputs": [],
      "source": [
        "import matplotlib.pyplot as plt\n",
        "\n",
        "plt.rc('font', family='NanumBarunGothic')"
      ]
    },
    {
      "cell_type": "code",
      "execution_count": null,
      "metadata": {
        "id": "tde5VtGeH-VR"
      },
      "outputs": [],
      "source": [
        "import numpy as np\n",
        "import pandas as pd"
      ]
    },
    {
      "cell_type": "markdown",
      "metadata": {
        "id": "E2RiN4SuH-VS"
      },
      "source": [
        "## 2. 파일 읽어오기"
      ]
    },
    {
      "cell_type": "code",
      "execution_count": null,
      "metadata": {
        "id": "LwSSuBfhH-VS"
      },
      "outputs": [],
      "source": [
        "# AI-HUB 감성 대화 malmungchi 읽어오기\n",
        "final_data = pd.read_csv('https://github.com/ohgzone/file1/raw/main/aihub_coupus.csv' )\n",
        "# 데이터 확인!\n",
        "final_data.head()\n",
        "# 아마 총 51,630건\n",
        "final_data.info()"
      ]
    },
    {
      "cell_type": "markdown",
      "metadata": {
        "id": "3TRJlEgOH-VT"
      },
      "source": [
        "## 3. 영문, 숫자, 특수문자 제거"
      ]
    },
    {
      "cell_type": "code",
      "execution_count": null,
      "metadata": {
        "id": "1ryvf3F6H-VU"
      },
      "outputs": [],
      "source": [
        "# '문장' 컬럼의 내용중에 영문, 특수문자 있는지 확인 : 영문과 특수문자 존재 필요\n",
        "final_data[final_data['문장'].str.contains('[^가-힣 ]')].values[:10]\n",
        "# '문장' 컬럼의 내용에서 숫자, 영문자, 특수문자등의 글자는 삭제처리\n",
        "# final_data['문장'].replace('[^가-힣 ]','', regex=True) : 이렇게도 가능\n",
        "\n",
        "final_data['문장'] = final_data['문장'].str.replace('[^가-힣 ]','', regex=True)\n",
        "# '문장' 컬럼의 내용에서 영문, 특수문자 확인\n",
        "final_data['문장'][final_data['문장'].str.contains('[^가-힣 ]')].sum()"
      ]
    },
    {
      "cell_type": "markdown",
      "metadata": {
        "id": "OLX4uJwVH-VV"
      },
      "source": [
        "## 4. 전처리 : Null, 중복 제거"
      ]
    },
    {
      "cell_type": "code",
      "execution_count": null,
      "metadata": {
        "id": "GPdA9ca3H-VV"
      },
      "outputs": [],
      "source": [
        "# final_data 어떤 컬럼과 내용으로 되어 있는지 다시 확인\n",
        "final_data.tail()\n",
        "# '문장' 컬럼의 내용을 양끝의 빈공간 삭제\n",
        "final_data['문장'] = final_data['문장'].str.strip()\n",
        "# 데이터 다시 확인\n",
        "final_data.tail()\n",
        "# Null 있는지 확인 : 없음\n",
        "final_data.isnull().sum()\n",
        "# 중복 데이터 있는지 확인 : 56건 중복 존재 확인\n",
        "final_data['문장'].duplicated().sum()\n",
        "# 중복 데이터 제거\n",
        "final_data.drop_duplicates(subset=['문장'], inplace=True)\n",
        "# 기존 51,630건 --> 이후 51,574건 : 56건 중복 삭제 확인\n",
        "final_data.info()"
      ]
    },
    {
      "cell_type": "markdown",
      "metadata": {
        "id": "klJLeJrsH-VX"
      },
      "source": [
        "## 5. Label 분포 확인"
      ]
    },
    {
      "cell_type": "code",
      "execution_count": null,
      "metadata": {
        "id": "Jh1fR9AG9F4r"
      },
      "outputs": [],
      "source": [
        "# label '감정' 분포 확인 : 총 6개이며, 고루게 분포 확인. 단 기쁨이 약간 부족해 보임\n",
        "final_data['감정'].value_counts()\n",
        "# plot Bar차트 그리기\n",
        "final_data['감정'].value_counts().plot(kind='bar')"
      ]
    },
    {
      "cell_type": "markdown",
      "metadata": {
        "id": "Q35mnR8EH-VX"
      },
      "source": [
        "## 6. label 숫자로 인코딩"
      ]
    },
    {
      "cell_type": "code",
      "execution_count": null,
      "metadata": {
        "colab": {
          "base_uri": "https://localhost:8080/"
        },
        "id": "MvX-KuDp9ksW",
        "outputId": "a7abaa53-628b-424a-f634-8a47d1ef34dc"
      },
      "outputs": [
        {
          "data": {
            "text/plain": [
              "array(['기쁨', '당황', '분노', '불안', '상처', '슬픔'], dtype=object)"
            ]
          },
          "execution_count": 20,
          "metadata": {},
          "output_type": "execute_result"
        }
      ],
      "source": [
        "# 라벨와 클래스을 매핑 작업\n",
        "from sklearn.preprocessing import LabelEncoder\n",
        "\n",
        "encoder = LabelEncoder()\n",
        "final_data['감정'] = encoder.fit_transform(final_data['감정'])\n",
        "encoder.classes_\n",
        "final_data.tail()"
      ]
    },
    {
      "cell_type": "markdown",
      "metadata": {
        "id": "__xkzX7sH-VY"
      },
      "source": [
        "## 7. X, Y 분리"
      ]
    },
    {
      "cell_type": "code",
      "execution_count": null,
      "metadata": {
        "id": "bDerk2PMH-VY"
      },
      "outputs": [],
      "source": [
        "# X, Y 분리\n",
        "features = final_data['문장'].values\n",
        "labels = final_data['감정'].values\n",
        "features.shape, labels.shape\n",
        "# features 내용 3개 출력\n",
        "features[:3]\n",
        "print('이벤트 문자열 최대 길이 :{}'.format(max(len(l) for l in features)))\n",
        "print('이벤트 문자열 평균 길이 :{}'.format(sum(map(len, features))/len(features)))\n",
        "# 히스토그램을 보면 30~40 부근에 많이 몰려 있음 알수 있다.\n",
        "plt.hist([len(s) for s in features], bins=50)\n",
        "plt.xlabel('length of samples')\n",
        "plt.ylabel('number of samples')\n",
        "plt.show()"
      ]
    },
    {
      "cell_type": "markdown",
      "metadata": {
        "id": "MBq7vd9MH-VY"
      },
      "source": [
        "## 8. train set와 test set 분리"
      ]
    },
    {
      "cell_type": "code",
      "execution_count": null,
      "metadata": {
        "colab": {
          "base_uri": "https://localhost:8080/"
        },
        "id": "xTrVXf-dH-VY",
        "outputId": "11a51c13-e652-417d-bf6d-9a87baf100b2"
      },
      "outputs": [
        {
          "data": {
            "text/plain": [
              "((41259,), (10315,), (41259,), (10315,))"
            ]
          },
          "execution_count": 27,
          "metadata": {},
          "output_type": "execute_result"
        }
      ],
      "source": [
        "from sklearn.model_selection import train_test_split\n",
        "\n",
        "x_train, x_test, y_train, y_test = train_test_split(features, labels , test_size=0.2, stratify=labels, random_state=41)\n",
        "x_train.shape, x_test.shape, y_train.shape, y_test.shape\n",
        "# 샘플확인 , 라벨 확인\n",
        "# {0: '불안', 1: '분노', 2: '상처', 3: '슬픔', 4: '당황', 5: '기쁨'}\n",
        "\n",
        "x_train[:2], y_train[:2]\n",
        "# 말뭉치를 TF-IDF로 변환하기\n",
        "from sklearn.feature_extraction.text import TfidfVectorizer\n",
        "\n",
        "tfidf = TfidfVectorizer()\n",
        "x_train_v = tfidf.fit_transform(x_train)\n",
        "x_test_v = tfidf.transform(x_test)\n",
        "\n",
        "# 각 라인의 각 단어에 대한 TF-IDF 값 표현\n",
        "print(x_train_v)\n",
        "# 학습데이터셋의 TF-IDF 매트릭스 확인하기 : 41259 라인, 47366 단어\n",
        "x_train_v.shape"
      ]
    },
    {
      "cell_type": "markdown",
      "metadata": {
        "id": "aLl7isNzH-Va"
      },
      "source": [
        "## 9. 머신러닝 모델링"
      ]
    },
    {
      "cell_type": "code",
      "execution_count": null,
      "metadata": {
        "colab": {
          "background_save": true
        },
        "id": "m4IfXI_9H-Va",
        "outputId": "caa14a73-fce0-41f0-bc8e-5bec471bbd5f"
      },
      "outputs": [
        {
          "data": {
            "text/plain": [
              "0.49704314105671354"
            ]
          },
          "execution_count": 32,
          "metadata": {},
          "output_type": "execute_result"
        }
      ],
      "source": [
        "# 학습하는데 Colab에서 4분 소요\n",
        "from sklearn.ensemble import RandomForestClassifier\n",
        "\n",
        "rfc = RandomForestClassifier() # 모델 정의\n",
        "rfc.fit(x_train_v, y_train) # 모델 학습\n",
        "\n",
        "rfc.score(x_test_v, y_test)"
      ]
    },
    {
      "cell_type": "markdown",
      "metadata": {
        "id": "0JTrGRFfH-Vc"
      },
      "source": [
        "### 10. 예측해 보기"
      ]
    },
    {
      "cell_type": "code",
      "execution_count": null,
      "metadata": {
        "colab": {
          "background_save": true
        },
        "id": "AJxKh_d9H-Vc"
      },
      "outputs": [],
      "source": [
        "# 출력 결과 해석 : (0, 44327)\t0.241660101642553\n",
        "# 0 : 첫라인, 44327 : 단어에 맵핑된 번호, 0.241660101642553 : tf-idf 계산 값\n",
        "\n",
        "print(f'검증데이터셋의 첫번째 TF-IDF : {x_test_v[0]}')\n",
        "print(f'검증데이터셋의 첫번째 TF-IDF 역변환 : {tfidf.inverse_transform(x_test_v[:1])}')\n",
        "# RandomForest 모델로 예측하기\n",
        "predict = rfc.predict(x_test_v[:1])\n",
        "predict, encoder.inverse_transform(predict)\n",
        "# 정답 확인\n",
        "y_test[0]"
      ]
    },
    {
      "cell_type": "markdown",
      "metadata": {
        "id": "UxlagQKoENAq"
      },
      "source": [
        "## 1. 라이브러리 임포트"
      ]
    },
    {
      "cell_type": "code",
      "execution_count": null,
      "metadata": {
        "colab": {
          "background_save": true
        },
        "id": "W0vDxFw3ENAq"
      },
      "outputs": [],
      "source": [
        "import numpy as np\n",
        "import pandas as pd\n",
        "## 2. 파일 읽어오기\n",
        "# AI-HUB 감성 대화 말뭉치 활용하여 만든 데이터 읽어오기\n",
        "final_data = pd.read_csv('https://github.com/ohgzone/file1/raw/main/aihub_coupus.csv' )\n",
        "# 데이터 확인하기\n",
        "final_data.head()\n",
        "# 총 51,630건\n",
        "final_data.info()\n",
        "## 3. 영문, 숫자 특수문자 제거\n",
        "# '문장' 컬럼의 내용중에 영문, 특수문자 있는지 확인 : 영문과 특수문자 존재 확인\n",
        "final_data[final_data['문장'].str.contains('[^가-힣 ]')].values[:10]\n",
        "# '문장' 컬럼의 내용에서 숫자, 영문자, 특수문자등의 글자는 삭제처리\n",
        "final_data['문장'] = final_data['문장'].str.replace('[^가-힣 ]','', regex=True)\n",
        "# '문장' 컬럼의 내용에서 영문, 특수문자 없음 확인\n",
        "final_data['문장'][final_data['문장'].str.contains('[^가-힣 ]')].sum()\n",
        "# 숫자, 영문자, 특수문자 등 제거후 데이터 확인하기.\n",
        "final_data.head()"
      ]
    },
    {
      "cell_type": "markdown",
      "metadata": {
        "id": "jH2tl_lVENAs"
      },
      "source": [
        "## 4. 전처리 : Null, 중복 제거"
      ]
    },
    {
      "cell_type": "code",
      "execution_count": null,
      "metadata": {
        "colab": {
          "background_save": true
        },
        "id": "yU3jbym7ENAs",
        "outputId": "fed482b1-fc6a-48cb-f5e2-c3652ff0c62b"
      },
      "outputs": [
        {
          "data": {
            "application/vnd.google.colaboratory.intrinsic+json": {
              "summary": "{\n  \"name\": \"final_data\",\n  \"rows\": 5,\n  \"fields\": [\n    {\n      \"column\": \"\\uac10\\uc815\",\n      \"properties\": {\n        \"dtype\": \"string\",\n        \"num_unique_values\": 3,\n        \"samples\": [\n          \"\\ubd84\\ub178\",\n          \"\\ubd88\\uc548\",\n          \"\\uc0c1\\ucc98\"\n        ],\n        \"semantic_type\": \"\",\n        \"description\": \"\"\n      }\n    },\n    {\n      \"column\": \"\\ubb38\\uc7a5\",\n      \"properties\": {\n        \"dtype\": \"string\",\n        \"num_unique_values\": 5,\n        \"samples\": [\n          \"\\ubab8\\uc774 \\ub9ce\\uc774 \\uc57d\\ud574\\uc84c\\ub098 \\ubd10 \\uc774\\uc81c \\uc804\\uacfc \\uac19\\uc774 \\uc77c\\ud558\\uc9c0 \\ubabb\\ud560 \\uac83 \\uac19\\uc544 \\ub108\\ubb34 \\uc9dc\\uc99d \\ub098\",\n          \"\\ub0a8\\ud3b8\\uacfc \\uacb0\\ud63c\\ud55c \\uc9c0 \\uc0ac\\uc2ed \\ub144\\uc774\\uc57c \\uc774\\uc81c \\uc0ac\\ub78c \\ub9cc\\ub098\\ub294 \\uac83\\ub3c4 \\ubc84\\uac81\\uace0 \\uc54c\\ub358 \\uc0ac\\ub78c\\ub3c4 \\uc810\\uc810 \\uc0ac\\ub77c\\uc838\",\n          \"\\uc774\\uc81c \\uc5b4\\ub5bb\\uac8c \\ud574\\uc57c \\ud560\\uc9c0 \\ubaa8\\ub974\\uaca0\\uc5b4 \\ub0a8\\ud3b8\\ub3c4 \\uadf8\\ub807\\uace0 \\ub178\\ud6c4 \\uc900\\ube44\\ub3c4 \\uc548 \\ub418\\uc5b4\\uc11c \\ubbf8\\ub798\\uac00 \\uac71\\uc815\\ub3fc\"\n        ],\n        \"semantic_type\": \"\",\n        \"description\": \"\"\n      }\n    }\n  ]\n}",
              "type": "dataframe"
            },
            "text/html": [
              "\n",
              "  <div id=\"df-2236623d-717a-483b-9cfc-ce246df27218\" class=\"colab-df-container\">\n",
              "    <div>\n",
              "<style scoped>\n",
              "    .dataframe tbody tr th:only-of-type {\n",
              "        vertical-align: middle;\n",
              "    }\n",
              "\n",
              "    .dataframe tbody tr th {\n",
              "        vertical-align: top;\n",
              "    }\n",
              "\n",
              "    .dataframe thead th {\n",
              "        text-align: right;\n",
              "    }\n",
              "</style>\n",
              "<table border=\"1\" class=\"dataframe\">\n",
              "  <thead>\n",
              "    <tr style=\"text-align: right;\">\n",
              "      <th></th>\n",
              "      <th>감정</th>\n",
              "      <th>문장</th>\n",
              "    </tr>\n",
              "  </thead>\n",
              "  <tbody>\n",
              "    <tr>\n",
              "      <th>51625</th>\n",
              "      <td>분노</td>\n",
              "      <td>나이가 먹고 이제 돈도 못 벌어 오니까 어떻게 살아가야 할지 막막해 능력도 없고</td>\n",
              "    </tr>\n",
              "    <tr>\n",
              "      <th>51626</th>\n",
              "      <td>불안</td>\n",
              "      <td>몸이 많이 약해졌나 봐 이제 전과 같이 일하지 못할 것 같아 너무 짜증 나</td>\n",
              "    </tr>\n",
              "    <tr>\n",
              "      <th>51627</th>\n",
              "      <td>상처</td>\n",
              "      <td>이제 어떻게 해야 할지 모르겠어 남편도 그렇고 노후 준비도 안 되어서 미래가 걱정돼</td>\n",
              "    </tr>\n",
              "    <tr>\n",
              "      <th>51628</th>\n",
              "      <td>불안</td>\n",
              "      <td>몇십 년을 함께 살았던 남편과 이혼했어 그동안의 세월에 배신감을 느끼고 너무 화가 나</td>\n",
              "    </tr>\n",
              "    <tr>\n",
              "      <th>51629</th>\n",
              "      <td>상처</td>\n",
              "      <td>남편과 결혼한 지 사십 년이야 이제 사람 만나는 것도 버겁고 알던 사람도 점점 사라져</td>\n",
              "    </tr>\n",
              "  </tbody>\n",
              "</table>\n",
              "</div>\n",
              "    <div class=\"colab-df-buttons\">\n",
              "\n",
              "  <div class=\"colab-df-container\">\n",
              "    <button class=\"colab-df-convert\" onclick=\"convertToInteractive('df-2236623d-717a-483b-9cfc-ce246df27218')\"\n",
              "            title=\"Convert this dataframe to an interactive table.\"\n",
              "            style=\"display:none;\">\n",
              "\n",
              "  <svg xmlns=\"http://www.w3.org/2000/svg\" height=\"24px\" viewBox=\"0 -960 960 960\">\n",
              "    <path d=\"M120-120v-720h720v720H120Zm60-500h600v-160H180v160Zm220 220h160v-160H400v160Zm0 220h160v-160H400v160ZM180-400h160v-160H180v160Zm440 0h160v-160H620v160ZM180-180h160v-160H180v160Zm440 0h160v-160H620v160Z\"/>\n",
              "  </svg>\n",
              "    </button>\n",
              "\n",
              "  <style>\n",
              "    .colab-df-container {\n",
              "      display:flex;\n",
              "      gap: 12px;\n",
              "    }\n",
              "\n",
              "    .colab-df-convert {\n",
              "      background-color: #E8F0FE;\n",
              "      border: none;\n",
              "      border-radius: 50%;\n",
              "      cursor: pointer;\n",
              "      display: none;\n",
              "      fill: #1967D2;\n",
              "      height: 32px;\n",
              "      padding: 0 0 0 0;\n",
              "      width: 32px;\n",
              "    }\n",
              "\n",
              "    .colab-df-convert:hover {\n",
              "      background-color: #E2EBFA;\n",
              "      box-shadow: 0px 1px 2px rgba(60, 64, 67, 0.3), 0px 1px 3px 1px rgba(60, 64, 67, 0.15);\n",
              "      fill: #174EA6;\n",
              "    }\n",
              "\n",
              "    .colab-df-buttons div {\n",
              "      margin-bottom: 4px;\n",
              "    }\n",
              "\n",
              "    [theme=dark] .colab-df-convert {\n",
              "      background-color: #3B4455;\n",
              "      fill: #D2E3FC;\n",
              "    }\n",
              "\n",
              "    [theme=dark] .colab-df-convert:hover {\n",
              "      background-color: #434B5C;\n",
              "      box-shadow: 0px 1px 3px 1px rgba(0, 0, 0, 0.15);\n",
              "      filter: drop-shadow(0px 1px 2px rgba(0, 0, 0, 0.3));\n",
              "      fill: #FFFFFF;\n",
              "    }\n",
              "  </style>\n",
              "\n",
              "    <script>\n",
              "      const buttonEl =\n",
              "        document.querySelector('#df-2236623d-717a-483b-9cfc-ce246df27218 button.colab-df-convert');\n",
              "      buttonEl.style.display =\n",
              "        google.colab.kernel.accessAllowed ? 'block' : 'none';\n",
              "\n",
              "      async function convertToInteractive(key) {\n",
              "        const element = document.querySelector('#df-2236623d-717a-483b-9cfc-ce246df27218');\n",
              "        const dataTable =\n",
              "          await google.colab.kernel.invokeFunction('convertToInteractive',\n",
              "                                                    [key], {});\n",
              "        if (!dataTable) return;\n",
              "\n",
              "        const docLinkHtml = 'Like what you see? Visit the ' +\n",
              "          '<a target=\"_blank\" href=https://colab.research.google.com/notebooks/data_table.ipynb>data table notebook</a>'\n",
              "          + ' to learn more about interactive tables.';\n",
              "        element.innerHTML = '';\n",
              "        dataTable['output_type'] = 'display_data';\n",
              "        await google.colab.output.renderOutput(dataTable, element);\n",
              "        const docLink = document.createElement('div');\n",
              "        docLink.innerHTML = docLinkHtml;\n",
              "        element.appendChild(docLink);\n",
              "      }\n",
              "    </script>\n",
              "  </div>\n",
              "\n",
              "\n",
              "<div id=\"df-71bf0d98-38dd-457f-a796-42c8a1f97f6b\">\n",
              "  <button class=\"colab-df-quickchart\" onclick=\"quickchart('df-71bf0d98-38dd-457f-a796-42c8a1f97f6b')\"\n",
              "            title=\"Suggest charts\"\n",
              "            style=\"display:none;\">\n",
              "\n",
              "<svg xmlns=\"http://www.w3.org/2000/svg\" height=\"24px\"viewBox=\"0 0 24 24\"\n",
              "     width=\"24px\">\n",
              "    <g>\n",
              "        <path d=\"M19 3H5c-1.1 0-2 .9-2 2v14c0 1.1.9 2 2 2h14c1.1 0 2-.9 2-2V5c0-1.1-.9-2-2-2zM9 17H7v-7h2v7zm4 0h-2V7h2v10zm4 0h-2v-4h2v4z\"/>\n",
              "    </g>\n",
              "</svg>\n",
              "  </button>\n",
              "\n",
              "<style>\n",
              "  .colab-df-quickchart {\n",
              "      --bg-color: #E8F0FE;\n",
              "      --fill-color: #1967D2;\n",
              "      --hover-bg-color: #E2EBFA;\n",
              "      --hover-fill-color: #174EA6;\n",
              "      --disabled-fill-color: #AAA;\n",
              "      --disabled-bg-color: #DDD;\n",
              "  }\n",
              "\n",
              "  [theme=dark] .colab-df-quickchart {\n",
              "      --bg-color: #3B4455;\n",
              "      --fill-color: #D2E3FC;\n",
              "      --hover-bg-color: #434B5C;\n",
              "      --hover-fill-color: #FFFFFF;\n",
              "      --disabled-bg-color: #3B4455;\n",
              "      --disabled-fill-color: #666;\n",
              "  }\n",
              "\n",
              "  .colab-df-quickchart {\n",
              "    background-color: var(--bg-color);\n",
              "    border: none;\n",
              "    border-radius: 50%;\n",
              "    cursor: pointer;\n",
              "    display: none;\n",
              "    fill: var(--fill-color);\n",
              "    height: 32px;\n",
              "    padding: 0;\n",
              "    width: 32px;\n",
              "  }\n",
              "\n",
              "  .colab-df-quickchart:hover {\n",
              "    background-color: var(--hover-bg-color);\n",
              "    box-shadow: 0 1px 2px rgba(60, 64, 67, 0.3), 0 1px 3px 1px rgba(60, 64, 67, 0.15);\n",
              "    fill: var(--button-hover-fill-color);\n",
              "  }\n",
              "\n",
              "  .colab-df-quickchart-complete:disabled,\n",
              "  .colab-df-quickchart-complete:disabled:hover {\n",
              "    background-color: var(--disabled-bg-color);\n",
              "    fill: var(--disabled-fill-color);\n",
              "    box-shadow: none;\n",
              "  }\n",
              "\n",
              "  .colab-df-spinner {\n",
              "    border: 2px solid var(--fill-color);\n",
              "    border-color: transparent;\n",
              "    border-bottom-color: var(--fill-color);\n",
              "    animation:\n",
              "      spin 1s steps(1) infinite;\n",
              "  }\n",
              "\n",
              "  @keyframes spin {\n",
              "    0% {\n",
              "      border-color: transparent;\n",
              "      border-bottom-color: var(--fill-color);\n",
              "      border-left-color: var(--fill-color);\n",
              "    }\n",
              "    20% {\n",
              "      border-color: transparent;\n",
              "      border-left-color: var(--fill-color);\n",
              "      border-top-color: var(--fill-color);\n",
              "    }\n",
              "    30% {\n",
              "      border-color: transparent;\n",
              "      border-left-color: var(--fill-color);\n",
              "      border-top-color: var(--fill-color);\n",
              "      border-right-color: var(--fill-color);\n",
              "    }\n",
              "    40% {\n",
              "      border-color: transparent;\n",
              "      border-right-color: var(--fill-color);\n",
              "      border-top-color: var(--fill-color);\n",
              "    }\n",
              "    60% {\n",
              "      border-color: transparent;\n",
              "      border-right-color: var(--fill-color);\n",
              "    }\n",
              "    80% {\n",
              "      border-color: transparent;\n",
              "      border-right-color: var(--fill-color);\n",
              "      border-bottom-color: var(--fill-color);\n",
              "    }\n",
              "    90% {\n",
              "      border-color: transparent;\n",
              "      border-bottom-color: var(--fill-color);\n",
              "    }\n",
              "  }\n",
              "</style>\n",
              "\n",
              "  <script>\n",
              "    async function quickchart(key) {\n",
              "      const quickchartButtonEl =\n",
              "        document.querySelector('#' + key + ' button');\n",
              "      quickchartButtonEl.disabled = true;  // To prevent multiple clicks.\n",
              "      quickchartButtonEl.classList.add('colab-df-spinner');\n",
              "      try {\n",
              "        const charts = await google.colab.kernel.invokeFunction(\n",
              "            'suggestCharts', [key], {});\n",
              "      } catch (error) {\n",
              "        console.error('Error during call to suggestCharts:', error);\n",
              "      }\n",
              "      quickchartButtonEl.classList.remove('colab-df-spinner');\n",
              "      quickchartButtonEl.classList.add('colab-df-quickchart-complete');\n",
              "    }\n",
              "    (() => {\n",
              "      let quickchartButtonEl =\n",
              "        document.querySelector('#df-71bf0d98-38dd-457f-a796-42c8a1f97f6b button');\n",
              "      quickchartButtonEl.style.display =\n",
              "        google.colab.kernel.accessAllowed ? 'block' : 'none';\n",
              "    })();\n",
              "  </script>\n",
              "</div>\n",
              "\n",
              "    </div>\n",
              "  </div>\n"
            ],
            "text/plain": [
              "       감정                                               문장\n",
              "51625  분노     나이가 먹고 이제 돈도 못 벌어 오니까 어떻게 살아가야 할지 막막해 능력도 없고\n",
              "51626  불안        몸이 많이 약해졌나 봐 이제 전과 같이 일하지 못할 것 같아 너무 짜증 나\n",
              "51627  상처   이제 어떻게 해야 할지 모르겠어 남편도 그렇고 노후 준비도 안 되어서 미래가 걱정돼\n",
              "51628  불안  몇십 년을 함께 살았던 남편과 이혼했어 그동안의 세월에 배신감을 느끼고 너무 화가 나\n",
              "51629  상처  남편과 결혼한 지 사십 년이야 이제 사람 만나는 것도 버겁고 알던 사람도 점점 사라져"
            ]
          },
          "execution_count": 45,
          "metadata": {},
          "output_type": "execute_result"
        }
      ],
      "source": [
        "# final_data 어떤 컬럼과 내용으로 되어 있는지 다시 확인\n",
        "final_data.tail()\n",
        "# '문장' 컬럼의 내용을 양끝의 빈공간 삭제\n",
        "final_data['문장'] = final_data['문장'].str.strip()\n",
        "# 데이터 다시 확인\n",
        "final_data.tail()\n",
        "# Null 있는지 확인 : 없음\n",
        "final_data.isnull().sum()\n",
        "# 중복 데이터 있는지 확인 : 56건 중복 존재 확인\n",
        "final_data['문장'].duplicated().sum()\n",
        "# 중복 데이터 제거\n",
        "final_data.drop_duplicates(subset=['문장'], inplace=True)\n",
        "# 기존 51,630건 --> 이후 51,574건 : 56건 중복 삭제 확인\n",
        "final_data.info()"
      ]
    },
    {
      "cell_type": "markdown",
      "metadata": {
        "id": "03wF8ws_ENAt"
      },
      "source": [
        "## 5. Label 분포 확인"
      ]
    },
    {
      "cell_type": "code",
      "execution_count": null,
      "metadata": {
        "colab": {
          "background_save": true
        },
        "id": "dwe335T3ENAt"
      },
      "outputs": [],
      "source": [
        "# label '감정' 분포 확인 : 총 6개이며, 고루게 분포 확인. 단 기쁨이 약간 부족해 보임\n",
        "final_data['감정'].value_counts()\n",
        "# plot Bar차트 그리기\n",
        "final_data['감정'].value_counts().plot(kind='bar')\n",
        "## 6. label 숫자로 인코딩\n",
        "# 감정 리스트 만듬\n",
        "list1 = final_data['감정'].value_counts().index.values\n",
        "list1\n",
        "# 라벨와 클래스을 매핑 작업\n",
        "label2class = {}\n",
        "class2label = {}\n",
        "for cl, la in enumerate(list1):\n",
        "  # print(i, j)\n",
        "  label2class[la] = cl\n",
        "  class2label[cl] = la\n",
        "\n",
        "print(label2class)\n",
        "print(class2label)\n",
        "# '감정' 라벨링 수행\n",
        "final_data['label'] = final_data['감정'].map(label2class)\n",
        "final_data.tail()"
      ]
    },
    {
      "cell_type": "markdown",
      "metadata": {
        "id": "AVkNRH5MENAu"
      },
      "source": [
        "## 7. X, Y 분리"
      ]
    },
    {
      "cell_type": "code",
      "execution_count": null,
      "metadata": {
        "colab": {
          "background_save": true
        },
        "id": "4xsbHTWIENAu"
      },
      "outputs": [],
      "source": [
        "# X, Y 분리\n",
        "features = final_data['문장'].values\n",
        "labels = final_data['label'].values\n",
        "features.shape, labels.shape\n",
        "# features 내용 3개 출력\n",
        "features[:3]\n",
        "print('이벤트 문자열 최대 길이 :{}'.format(max(len(l) for l in features)))\n",
        "print('이벤트 문자열 평균 길이 :{}'.format(sum(map(len, features))/len(features)))\n",
        "# 히스토그램을 보면 30~40 부근에 많이 몰려 있음 알수 있다.\n",
        "plt.hist([len(s) for s in features], bins=50)\n",
        "plt.xlabel('length of samples')\n",
        "plt.ylabel('number of samples')\n",
        "plt.show()\n",
        "## 8. train set와 test set 분리"
      ]
    },
    {
      "cell_type": "code",
      "execution_count": null,
      "metadata": {
        "colab": {
          "background_save": true
        },
        "id": "OVo-1An2ENAv",
        "outputId": "d8e4af68-9c8c-435c-9d81-764cce255316"
      },
      "outputs": [
        {
          "data": {
            "text/plain": [
              "((41259,), (10315,), (41259,), (10315,))"
            ]
          },
          "execution_count": 63,
          "metadata": {},
          "output_type": "execute_result"
        }
      ],
      "source": [
        "from sklearn.model_selection import train_test_split\n",
        "\n",
        "x_train, x_test, y_train, y_test = train_test_split(features, labels , test_size=0.2, stratify=labels, random_state=41)\n",
        "x_train.shape, x_test.shape, y_train.shape, y_test.shape\n",
        "# 샘플확인 , 라벨 확인\n",
        "# {0: '불안', 1: '분노', 2: '상처', 3: '슬픔', 4: '당황', 5: '기쁨'}\n",
        "\n",
        "x_train[:2], y_train[:2]"
      ]
    },
    {
      "cell_type": "markdown",
      "metadata": {
        "id": "Mbwms4FNENAv"
      },
      "source": [
        "## 9. 전체 문장에 대해 Tokenizing\n",
        "+ 컴퓨터가 이해하기 위해 모든 단어를 숫자로 변환해야 함.\n",
        "+ 단어 빈도수 따지지 않고 무조건 모든 단어 수용해서 진행"
      ]
    },
    {
      "cell_type": "code",
      "execution_count": null,
      "metadata": {
        "colab": {
          "background_save": true
        },
        "id": "p8ekogIIENAw"
      },
      "outputs": [],
      "source": [
        "import tensorflow as tf\n",
        "from tensorflow.keras.preprocessing.text import Tokenizer\n",
        "from tensorflow.keras.preprocessing.sequence import pad_sequences\n",
        "# Tokenizer 구현 : 단어 사전 만들기(fit_on_texts)\n",
        "tokenizer = Tokenizer()\n",
        "tokenizer.fit_on_texts(x_train)\n",
        "# 단어에 대한 숫자 매핑\n",
        "print(tokenizer.word_index)\n",
        "# 반대로 숫자로 단어 매핑\n",
        "print(tokenizer.index_word)\n",
        "# 단어별 빈도수 확인\n",
        "print(tokenizer.word_counts)\n",
        "# 총 단어 갯수 : 47,646\n",
        "max_words = len(tokenizer.index_word)\n",
        "print(max_words)\n",
        "# 문장을 숫자로 나열\n",
        "x_train_seq = tokenizer.texts_to_sequences(x_train)\n",
        "x_test_seq = tokenizer.texts_to_sequences(x_test)\n",
        "# 문장을 숫자로 변경후 갯수 확인\n",
        "# x_train.shape, x_test.shape, y_train.shape, y_test.shape : ((41259,), (10315,), (41259,), (10315,))\n",
        "print(len(x_train_seq), len(x_test_seq))\n",
        "print(x_train[1:3])\n",
        "print(x_train_seq[1:3])"
      ]
    },
    {
      "cell_type": "markdown",
      "metadata": {
        "id": "NzMF1egAENAy"
      },
      "source": [
        "## 11. Padding Sequence"
      ]
    },
    {
      "cell_type": "code",
      "execution_count": null,
      "metadata": {
        "colab": {
          "background_save": true
        },
        "id": "fkwNSqvSENAy",
        "outputId": "5a44acc1-b6e2-40d1-8c61-4c8184b09091"
      },
      "outputs": [
        {
          "data": {
            "text/plain": [
              "38"
            ]
          },
          "execution_count": 74,
          "metadata": {},
          "output_type": "execute_result"
        }
      ],
      "source": [
        "# 문장의 최대 길이 파악 : 제일 긴 문장 seq 길이는 38개로 구성됨.\n",
        "max(len(line) for line in x_train_seq)\n",
        "# 모든 문장을 최대 문장 Seq 길이 38에 맞춘다.\n",
        "x_train_pad = pad_sequences(x_train_seq, maxlen=38)\n",
        "x_test_pad = pad_sequences(x_test_seq, maxlen=38)\n",
        "# 문장 Seq 내용을 보니 잘 패딩되어 있음 확인\n",
        "x_train_pad[:1]\n",
        "# 문장 Seq 패딩의 shape 확인\n",
        "x_train_pad.shape, x_test_pad.shape\n",
        "from tensorflow.keras.layers import Dense, Flatten, Conv1D, MaxPool2D\n",
        "from tensorflow.keras.layers import Embedding, Bidirectional, LSTM, SimpleRNN, GRU\n",
        "from tensorflow.keras.models import Sequential\n",
        "from tensorflow.keras.callbacks import EarlyStopping, ModelCheckpoint\n",
        "# 하이퍼 파라미터\n",
        "\n",
        "max_words = 47646 + 1    # 총 단어 갯수 + padding 0 번호\n",
        "max_len = 38             # 최대 문장 길이\n",
        "embedding_dim = 32      # embedding 차원\n",
        "# 모델 선언\n",
        "model =  Sequential()\n",
        "# 단어를 의미있는 32 차원으로 Vector 변경(Embedding)\n",
        "model.add( Embedding (max_words, embedding_dim, input_length=max_len))\n",
        "# LSTM 모델\n",
        "model.add(LSTM(16, return_sequences=True))\n",
        "model.add(LSTM(16, return_sequences=True))\n",
        "model.add(Flatten())\n",
        "model.add(Dense(128, activation='swish'))\n",
        "model.add(Dense(32, activation='swish'))\n",
        "model.add(Dense(6, activation='softmax'))\n",
        "\n",
        "# 모델 compile\n",
        "model.compile(loss = 'sparse_categorical_crossentropy',\n",
        "              optimizer = 'adam',\n",
        "              metrics = 'accuracy')\n",
        "model.summary()\n",
        "# 조기종료 콜백함수 정의(EarlyStopping)\n",
        "es =  EarlyStopping(monitor='val_loss', patience=10, verbose=1)\n",
        "\n",
        "# 체크포인트 저장(ModelCheckpoint)\n",
        "checkpoint_path = 'tmp_checkpoint.ckpt'\n",
        "cp =  ModelCheckpoint(checkpoint_path, monitor='val_loss', verbose=1, save_best_only=True)\n",
        "# 모델 학습(fit)\n",
        "history = model.fit(x_train_pad, y_train, epochs=50, batch_size=512,\n",
        "                      validation_data=(x_test_pad, y_test), verbose =1, callbacks=[es, cp])\n",
        "epochs = range(1, len(history.history['accuracy']) + 1)\n",
        "plt.plot(epochs, history.history['accuracy'])\n",
        "plt.plot(epochs, history.history['val_accuracy'])\n",
        "plt.title('model accuracy')\n",
        "plt.ylabel('loss')\n",
        "plt.xlabel('epoch')\n",
        "plt.legend(['train', 'valid'], )\n",
        "plt.show()\n",
        "model.evaluate(x_test_pad, y_test)"
      ]
    },
    {
      "cell_type": "markdown",
      "metadata": {
        "id": "XqLnqQtKENAz"
      },
      "source": [
        "### 13. 예측해 보기"
      ]
    },
    {
      "cell_type": "code",
      "execution_count": null,
      "metadata": {
        "colab": {
          "background_save": true
        },
        "id": "nJGMBfOiENAz",
        "outputId": "20a64df7-e1b3-4a5e-e12f-d82f7357db10"
      },
      "outputs": [
        {
          "name": "stdout",
          "output_type": "stream",
          "text": [
            "문자열 : 눈 수술을 했더니 시력이 좋아졌어\n",
            "Sequence : [   0    0    0    0    0    0    0    0    0    0    0    0    0    0\n",
            "    0    0    0    0    0    0    0    0    0    0    0    0    0    0\n",
            "    0    0    0    0    0 1954  412  493 2450  961]\n"
          ]
        }
      ],
      "source": [
        "print(f'문자열 : {x_test[0]}')\n",
        "print(f'Sequence : {x_test_pad[0]}')\n",
        "# 모델 예측하기(predict)\n",
        "predict = model.predict(x_test_pad[:1])\n",
        "print(f'True : {class2label[y_test[0]]}')\n",
        "print(f'Predict : {class2label[np.argmax(predict)]}')"
      ]
    }
  ],
  "metadata": {
    "accelerator": "GPU",
    "colab": {
      "gpuType": "T4",
      "provenance": []
    },
    "kernelspec": {
      "display_name": "Python 3",
      "name": "python3"
    },
    "language_info": {
      "codemirror_mode": {
        "name": "ipython",
        "version": 3
      },
      "file_extension": ".py",
      "mimetype": "text/x-python",
      "name": "python",
      "nbconvert_exporter": "python",
      "pygments_lexer": "ipython3",
      "version": "3.6.9"
    }
  },
  "nbformat": 4,
  "nbformat_minor": 0
}